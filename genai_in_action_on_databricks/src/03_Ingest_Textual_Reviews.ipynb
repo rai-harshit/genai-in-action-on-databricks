{
 "cells": [
  {
   "cell_type": "code",
   "execution_count": 0,
   "metadata": {
    "application/vnd.databricks.v1+cell": {
     "cellMetadata": {},
     "inputWidgets": {},
     "nuid": "e04b759b-19f6-4e57-9c4c-5e09491bdfed",
     "showTitle": false,
     "tableResultSettingsMap": {},
     "title": ""
    }
   },
   "outputs": [],
   "source": [
    "%sql\n",
    "CREATE OR REPLACE TABLE `harshit_rai_genai_demo`.`products`.`camera_reviews_multilingual` AS\n",
    "WITH ranked_reviews AS (\n",
    "    SELECT *,\n",
    "           ROW_NUMBER() OVER (PARTITION BY stars, language ORDER BY product_id) AS row_num\n",
    "    FROM `harshit_rai_genai_demo`.`products`.`all_product_reviews`\n",
    "    WHERE product_category = 'camera'\n",
    ")\n",
    "SELECT *\n",
    "FROM ranked_reviews\n",
    "WHERE row_num <= 5;"
   ]
  }
 ],
 "metadata": {
  "application/vnd.databricks.v1+notebook": {
   "computePreferences": null,
   "dashboards": [],
   "environmentMetadata": {
    "base_environment": "",
    "client": "1"
   },
   "language": "python",
   "notebookMetadata": {
    "pythonIndentUnit": 2
   },
   "notebookName": "Ingest_Textual_Reviews",
   "widgets": {}
  },
  "language_info": {
   "name": "python"
  }
 },
 "nbformat": 4,
 "nbformat_minor": 0
}
