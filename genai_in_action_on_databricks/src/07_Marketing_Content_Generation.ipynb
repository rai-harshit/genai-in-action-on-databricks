{
 "cells": [
  {
   "cell_type": "code",
   "execution_count": 0,
   "metadata": {
    "application/vnd.databricks.v1+cell": {
     "cellMetadata": {
      "byteLimit": 2048000,
      "rowLimit": 10000
     },
     "inputWidgets": {},
     "nuid": "d5f1cf98-a7e6-4e03-8157-de3d25acc75b",
     "showTitle": false,
     "tableResultSettingsMap": {},
     "title": ""
    }
   },
   "outputs": [
    {
     "name": "stdout",
     "output_type": "stream",
     "text": [
      "\u001b[43mNote: you may need to restart the kernel using dbutils.library.restartPython() to use updated packages.\u001b[0m\n",
      "Requirement already satisfied: openai in /databricks/python3/lib/python3.10/site-packages (0.28.1)\n",
      "Collecting openai\n",
      "  Using cached openai-1.54.3-py3-none-any.whl (389 kB)\n",
      "Collecting typing-extensions<5,>=4.11\n",
      "  Using cached typing_extensions-4.12.2-py3-none-any.whl (37 kB)\n",
      "Requirement already satisfied: pydantic<3,>=1.9.0 in /databricks/python3/lib/python3.10/site-packages (from openai) (1.10.6)\n",
      "Requirement already satisfied: anyio<5,>=3.5.0 in /databricks/python3/lib/python3.10/site-packages (from openai) (3.5.0)\n",
      "Requirement already satisfied: distro<2,>=1.7.0 in /usr/lib/python3/dist-packages (from openai) (1.7.0)\n",
      "Requirement already satisfied: tqdm>4 in /databricks/python3/lib/python3.10/site-packages (from openai) (4.64.1)\n",
      "Collecting jiter<1,>=0.4.0\n",
      "  Using cached jiter-0.7.0-cp310-cp310-manylinux_2_17_x86_64.manylinux2014_x86_64.whl (327 kB)\n",
      "Requirement already satisfied: sniffio in /databricks/python3/lib/python3.10/site-packages (from openai) (1.2.0)\n",
      "Collecting httpx<1,>=0.23.0\n",
      "  Using cached httpx-0.27.2-py3-none-any.whl (76 kB)\n",
      "Requirement already satisfied: idna>=2.8 in /databricks/python3/lib/python3.10/site-packages (from anyio<5,>=3.5.0->openai) (3.4)\n",
      "Collecting httpcore==1.*\n",
      "  Using cached httpcore-1.0.6-py3-none-any.whl (78 kB)\n",
      "Requirement already satisfied: certifi in /databricks/python3/lib/python3.10/site-packages (from httpx<1,>=0.23.0->openai) (2022.12.7)\n",
      "Collecting h11<0.15,>=0.13\n",
      "  Using cached h11-0.14.0-py3-none-any.whl (58 kB)\n",
      "Installing collected packages: typing-extensions, jiter, h11, httpcore, httpx, openai\n",
      "  Attempting uninstall: typing-extensions\n",
      "    Found existing installation: typing_extensions 4.4.0\n",
      "    Not uninstalling typing-extensions at /databricks/python3/lib/python3.10/site-packages, outside environment /local_disk0/.ephemeral_nfs/envs/pythonEnv-2c443105-b1c3-4d32-beb1-0112b338c518\n",
      "    Can't uninstall 'typing_extensions'. No files were found to uninstall.\n",
      "  Attempting uninstall: openai\n",
      "    Found existing installation: openai 0.28.1\n",
      "    Not uninstalling openai at /databricks/python3/lib/python3.10/site-packages, outside environment /local_disk0/.ephemeral_nfs/envs/pythonEnv-2c443105-b1c3-4d32-beb1-0112b338c518\n",
      "    Can't uninstall 'openai'. No files were found to uninstall.\n",
      "Successfully installed h11-0.14.0 httpcore-1.0.6 httpx-0.27.2 jiter-0.7.0 openai-1.54.3 typing-extensions-4.12.2\n",
      "\u001b[43mNote: you may need to restart the kernel using dbutils.library.restartPython() to use updated packages.\u001b[0m\n"
     ]
    }
   ],
   "source": [
    "%pip install -U openai"
   ]
  },
  {
   "cell_type": "code",
   "execution_count": 0,
   "metadata": {
    "application/vnd.databricks.v1+cell": {
     "cellMetadata": {
      "byteLimit": 2048000,
      "rowLimit": 10000
     },
     "inputWidgets": {},
     "nuid": "edfbcb07-5cdc-4c3d-b063-88be1828f6f2",
     "showTitle": false,
     "tableResultSettingsMap": {},
     "title": ""
    }
   },
   "outputs": [],
   "source": [
    "dbutils.library.restartPython()"
   ]
  },
  {
   "cell_type": "code",
   "execution_count": 0,
   "metadata": {
    "application/vnd.databricks.v1+cell": {
     "cellMetadata": {
      "byteLimit": 2048000,
      "rowLimit": 10000
     },
     "inputWidgets": {},
     "nuid": "2379a676-e3da-47b2-a1e2-3a40f6adc3ed",
     "showTitle": false,
     "tableResultSettingsMap": {},
     "title": ""
    }
   },
   "outputs": [],
   "source": [
    "with open(\"/Volumes/genai_demo/products/reports/Product-Report-Markdown.md\", 'r') as file:\n",
    "    markdown_text = file.read()"
   ]
  },
  {
   "cell_type": "code",
   "execution_count": 0,
   "metadata": {
    "application/vnd.databricks.v1+cell": {
     "cellMetadata": {
      "byteLimit": 2048000,
      "rowLimit": 10000
     },
     "inputWidgets": {},
     "nuid": "62e59eb8-0d2b-47df-9506-f5829eaa4bd6",
     "showTitle": false,
     "tableResultSettingsMap": {},
     "title": ""
    }
   },
   "outputs": [
    {
     "data": {
      "text/plain": [
       "'Positive Feedback Excellent value for money Good quality and durable Easy to use and operate Great for beginners and advanced users Good for specific use cases (e.g., wildlife observation, target shooting) Nice design and aesthetics Effective and wonderful product'"
      ]
     },
     "execution_count": 12,
     "metadata": {},
     "output_type": "execute_result"
    }
   ],
   "source": [
    "import re\n",
    "\n",
    "# Extracting the Positive Feedback section using string slicing\n",
    "start = markdown_text.find('Positive Feedback**')\n",
    "end = markdown_text.find('Negative Feedback**')\n",
    "\n",
    "# Extracting the content between these two sections\n",
    "positive_feedback = markdown_text[start:end].strip()\n",
    "clean_feedback = re.sub(r'\\n|\\*|_|-|`|#', '', positive_feedback)\n",
    "clean_feedback"
   ]
  },
  {
   "cell_type": "code",
   "execution_count": 0,
   "metadata": {
    "application/vnd.databricks.v1+cell": {
     "cellMetadata": {
      "byteLimit": 2048000,
      "rowLimit": 10000
     },
     "inputWidgets": {},
     "nuid": "bb63197d-3ddf-45ba-b4b9-303e55c19943",
     "showTitle": false,
     "tableResultSettingsMap": {},
     "title": ""
    }
   },
   "outputs": [],
   "source": [
    "from openai import OpenAI\n",
    "\n",
    "#### PERFORM TEXT TRANSLATION\n",
    "DATABRICKS_TOKEN = DATABRICKS_TOKEN = dbutils.notebook.entry_point.getDbutils().notebook().getContext().apiToken().get()\n",
    "serving_endpoint_url = dbutils.widgets.get(\"serving_endpoint_url\")\n",
    "t2t_model_name = dbutils.widgets.get(\"t2t_model_name\")\n",
    "\n",
    "def generate_prompt(system_text, user_text):\n",
    "  # How to get your Databricks token: https://docs.databricks.com/en/dev-tools/auth/pat.html\n",
    "  # DATABRICKS_TOKEN = os.environ.get('DATABRICKS_TOKEN')\n",
    "  # Alternatively in a Databricks notebook you can use this:\n",
    "  client = OpenAI(\n",
    "    api_key=DATABRICKS_TOKEN,\n",
    "    base_url=serving_endpoint_url\n",
    "  )\n",
    "\n",
    "  chat_completion = client.chat.completions.create(\n",
    "    messages=[\n",
    "    {\n",
    "      \"role\": \"system\",\n",
    "      \"content\": system_text\n",
    "    },\n",
    "    {\n",
    "      \"role\": \"user\",\n",
    "      \"content\": user_text\n",
    "    }\n",
    "    ],\n",
    "    model=t2t_model_name,\n",
    "    max_tokens=600\n",
    "  )\n",
    "  return chat_completion.choices[0].message.content"
   ]
  },
  {
   "cell_type": "code",
   "execution_count": 0,
   "metadata": {
    "application/vnd.databricks.v1+cell": {
     "cellMetadata": {
      "byteLimit": 2048000,
      "rowLimit": 10000
     },
     "inputWidgets": {},
     "nuid": "cebb6187-2327-4654-bc0b-6776e97a8cc4",
     "showTitle": false,
     "tableResultSettingsMap": {},
     "title": ""
    }
   },
   "outputs": [],
   "source": [
    "sys_text = \"I sell cameras all around the world. My customers have left a bunch of feedback. Here is a summary of the positive reviews. Generate a prompt that I can feed my image generation model. Also, add some prompt for more artistic and innovative background. Your response should of the following format: prompt. Absolutely do not say anything other than the prompt.\"\n",
    "\n",
    "img_prompt = generate_prompt(sys_text, clean_feedback)"
   ]
  },
  {
   "cell_type": "code",
   "execution_count": 0,
   "metadata": {
    "application/vnd.databricks.v1+cell": {
     "cellMetadata": {
      "byteLimit": 2048000,
      "rowLimit": 10000
     },
     "inputWidgets": {},
     "nuid": "abcadb4a-525e-4382-8ff5-f0075f9beb4e",
     "showTitle": false,
     "tableResultSettingsMap": {},
     "title": ""
    }
   },
   "outputs": [],
   "source": [
    "image_gen_t2t_model_name = dbutils.widgets.get(\"image_gen_model_name\")\n",
    "\n",
    "def generate_image(prompt):\n",
    "  client = OpenAI(\n",
    "    api_key=DATABRICKS_TOKEN,\n",
    "    base_url=serving_endpoint_url\n",
    "  )\n",
    "\n",
    "  images = client.images.generate(\n",
    "    prompt=f\"{img_prompt}\",\n",
    "    model=image_gen_t2t_model_name,\n",
    "    n=3\n",
    "  )\n",
    "  return images"
   ]
  },
  {
   "cell_type": "code",
   "execution_count": 0,
   "metadata": {
    "application/vnd.databricks.v1+cell": {
     "cellMetadata": {},
     "inputWidgets": {},
     "nuid": "da8bbb2c-7bcd-49d9-9f43-456151955248",
     "showTitle": false,
     "tableResultSettingsMap": {},
     "title": ""
    }
   },
   "outputs": [],
   "source": [
    "images = generate_image(img_prompt)\n"
   ]
  },
  {
   "cell_type": "code",
   "execution_count": null,
   "metadata": {},
   "outputs": [],
   "source": [
    "%sql\n",
    "\n",
    "USE CATALOG genai_demo;\n",
    "USE SCHEMA products;\n",
    "CREATE VOLUME IF NOT EXISTS social_media\n",
    "COMMENT 'Volume for generated social_media content.';"
   ]
  },
  {
   "cell_type": "code",
   "execution_count": 0,
   "metadata": {
    "application/vnd.databricks.v1+cell": {
     "cellMetadata": {
      "byteLimit": 2048000,
      "rowLimit": 10000
     },
     "inputWidgets": {},
     "nuid": "2a40034e-fecb-43b4-9870-3742fc86a5a2",
     "showTitle": false,
     "tableResultSettingsMap": {},
     "title": ""
    }
   },
   "outputs": [
    {
     "name": "stdout",
     "output_type": "stream",
     "text": [
      "Image successfully written.\n",
      "Image successfully written.\n",
      "Image successfully written.\n"
     ]
    }
   ],
   "source": [
    "import base64, random\n",
    "for image in images.data:\n",
    "  # Assuming images.data[1].b64_json contains your base64 encoded image data\n",
    "  base64_data = image.b64_json\n",
    "\n",
    "  # Decode the Base64 string\n",
    "  image_data = base64.b64decode(base64_data)\n",
    "  num = random.randint(1, 1000000)\n",
    "  # Save the image to the volume - you can modify this path\n",
    "  file_name = f\"/Volumes/genai_demo/products/social_media/post_{num}.png\"\n",
    "  # Write the decoded image data to a file\n",
    "  with open(file_name, \"wb\") as file:\n",
    "      file.write(image_data)\n",
    "\n",
    "  print(\"Image successfully written.\")"
   ]
  },
  {
   "cell_type": "code",
   "execution_count": 0,
   "metadata": {
    "application/vnd.databricks.v1+cell": {
     "cellMetadata": {
      "byteLimit": 2048000,
      "rowLimit": 10000
     },
     "inputWidgets": {},
     "nuid": "84aacdf0-9dc5-43a6-b59b-0419b599af34",
     "showTitle": false,
     "tableResultSettingsMap": {},
     "title": ""
    }
   },
   "outputs": [],
   "source": [
    "sys_text = \"I sell cameras all around the world. My customers have left a bunch of feedback. Here is a summary of the positive reviews. Generate a caption for a viral instagram and other social media posts using all the positive feedback. Say something funny and innovative. Make sure to use keywords from the reviews summary. Also include trending hashtags. Your response should be of the format: caption. Absolutely do not say anything else.\"\n",
    "\n",
    "sm_caption = generate_prompt(sys_text, clean_feedback)"
   ]
  },
  {
   "cell_type": "code",
   "execution_count": 0,
   "metadata": {
    "application/vnd.databricks.v1+cell": {
     "cellMetadata": {
      "byteLimit": 2048000,
      "rowLimit": 10000
     },
     "inputWidgets": {},
     "nuid": "2387616e-385d-4c0e-a6ed-b33be749c447",
     "showTitle": false,
     "tableResultSettingsMap": {},
     "title": ""
    }
   },
   "outputs": [],
   "source": [
    "num = random.randint(1, 1000000)\n",
    "with open(f'/Volumes/genai_demo/products/social_media/caption_text_{num}', 'w') as file:\n",
    "  file.write(sm_caption)"
   ]
  }
 ],
 "metadata": {
  "application/vnd.databricks.v1+notebook": {
   "computePreferences": null,
   "dashboards": [],
   "environmentMetadata": {
    "base_environment": "",
    "client": "1"
   },
   "language": "python",
   "notebookMetadata": {
    "pythonIndentUnit": 2
   },
   "notebookName": "Marketing_Content_Generation",
   "widgets": {}
  },
  "language_info": {
   "name": "python"
  }
 },
 "nbformat": 4,
 "nbformat_minor": 0
}
